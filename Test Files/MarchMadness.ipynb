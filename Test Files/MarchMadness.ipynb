{
 "cells": [
  {
   "attachments": {},
   "cell_type": "markdown",
   "metadata": {},
   "source": [
    "# March Madness\n",
    "\n",
    "![Banner](./assets/March-Madness-generic-(Blue-Black).jpg)"
   ]
  },
  {
   "attachments": {},
   "cell_type": "markdown",
   "metadata": {},
   "source": [
    "## Topic\n",
    "*What problem are you (or your stakeholder) trying to address?*\n",
    "📝 <!-- Answer Below -->\n",
    "\n",
    "Guessing a perfect bracket is nearly impossible (1 in 120.2 billion odds if you know a little something about basketball). Winners of the Bracket Challenge Game averaged around 49.8% of correctly guessed games."
   ]
  },
  {
   "attachments": {},
   "cell_type": "markdown",
   "metadata": {},
   "source": [
    "## Project Question\n",
    "*What specific question are you seeking to answer with this project?*\n",
    "*This is not the same as the questions you ask to limit the scope of the project.*\n",
    "📝 <!-- Answer Below -->\n",
    "\n",
    "Could machine learning make a perfect bracket (probably not) but could it beat the 49.8% average of correctly guessed games from the top players in the pool?  "
   ]
  },
  {
   "attachments": {},
   "cell_type": "markdown",
   "metadata": {},
   "source": [
    "## What would an answer look like?\n",
    "*What is your hypothesized answer to your question?*\n",
    "📝 <!-- Answer Below -->\n",
    "\n",
    "A machine learning model can beat the average winner rate of 49.8 correctly guessed games."
   ]
  },
  {
   "attachments": {},
   "cell_type": "markdown",
   "metadata": {},
   "source": [
    "## Data Sources\n",
    "*What 3 data sources have you identified for this project?*\n",
    "*How are you going to relate these datasets?*\n",
    "📝 <!-- Answer Below -->\n",
    "\n",
    "KenPom - a statistical archive of stats and ratings based on certain common metrics and custom statistical metrics (very popular among coaches, bookmakers, & bettors)\n",
    "\n",
    "Basketball Reference - another statistical archive of college basketball games and stats, has most of the common statistics you are going to find in a game\n",
    "\n",
    "Barttorvik - statistical archive of common stats and custom stats, like KenPom but has more custom metrics\n",
    "\n",
    "Depedending on what stats/metrics I will be able to pull from the sources, I will relate the data based on team/year (regular season). Each data source has regular season stats/metrics for each year for each team. "
   ]
  },
  {
   "attachments": {},
   "cell_type": "markdown",
   "metadata": {},
   "source": [
    "## Approach and Analysis\n",
    "*What is your approach to answering your project question?*\n",
    "*How will you use the identified data to answer your project question?*\n",
    "📝 <!-- Start Discussing the project here; you can add as many code cells as you need -->\n",
    "\n",
    "I will first formulate a method to determine how I will be able to include tournament data for each games/round. From there, I can start aggregating the team stats/metrics I want to test out in the data. Depending on the initial data analysis of these features, I will use some of them for the final model."
   ]
  },
  {
   "cell_type": "code",
   "execution_count": 1,
   "metadata": {},
   "outputs": [],
   "source": [
    "from bs4 import BeautifulSoup\n",
    "import requests\n",
    "import pandas as pd\n",
    "import numpy as np\n",
    "import re\n",
    "import cloudscraper\n",
    "import lxml"
   ]
  },
  {
   "cell_type": "code",
   "execution_count": 7,
   "metadata": {},
   "outputs": [],
   "source": [
    "# Base url, and a lambda func to return url for a given year\n",
    "base_url = 'http://kenpom.com/index.php'\n",
    "url_year = lambda x: '%s?y=%s' % (base_url, str(x) if x != 2023 else base_url)\n",
    "\n",
    "years = range(2002, 2024)"
   ]
  },
  {
   "cell_type": "code",
   "execution_count": 8,
   "metadata": {},
   "outputs": [],
   "source": [
    "# Create a method that parses a given year and spits out a raw dataframe\n",
    "def import_raw_year(year):\n",
    "    \"\"\"\n",
    "    Imports raw data from a ken pom year into a dataframe\n",
    "    \"\"\"\n",
    "    scraper = cloudscraper.create_scraper(browser={'browser': 'firefox','platform': 'windows','mobile': False})\n",
    "    f = scraper.get(url_year(year))\n",
    "    soup = BeautifulSoup(f.content)\n",
    "    table_html = soup.find_all('table', {'id': 'ratings-table'})\n",
    "\n",
    "    thead = table_html[0].find_all('thead')\n",
    "\n",
    "    table = table_html[0]\n",
    "    for x in thead:\n",
    "        table = str(table).replace(str(x), '')\n",
    "\n",
    "#    table = \"<table id='ratings-table'>%s</table>\" % table\n",
    "    df = pd.read_html(table)[0]\n",
    "    df['year'] = year\n",
    "    return df"
   ]
  },
  {
   "cell_type": "code",
   "execution_count": 9,
   "metadata": {},
   "outputs": [],
   "source": [
    "# Import all the years into a singular dataframe\n",
    "df = None\n",
    "for x in years:\n",
    "    df = pd.concat( (df, import_raw_year(x)), axis=0) \\\n",
    "        if df is not None else import_raw_year(2002)"
   ]
  },
  {
   "cell_type": "code",
   "execution_count": 10,
   "metadata": {},
   "outputs": [],
   "source": [
    "# Column rename based off of original website\n",
    "df.columns = ['Rank', 'Team', 'Conference', 'W-L', 'Pyth', \n",
    "             'AdjustO', 'AdjustO Rank', 'AdjustD', 'AdjustD Rank',\n",
    "             'AdjustT', 'AdjustT Rank', 'Luck', 'Luck Rank', \n",
    "             'SOS Pyth', 'SOS Pyth Rank', 'SOS OppO', 'SOS OppO Rank',\n",
    "             'SOS OppD', 'SOS OppD Rank', 'NCSOS Pyth', 'NCSOS Pyth Rank', 'Year']"
   ]
  },
  {
   "cell_type": "code",
   "execution_count": 11,
   "metadata": {},
   "outputs": [],
   "source": [
    "# Lambda that returns true if given string is a number and a valid seed number (1-16)\n",
    "valid_seed = lambda x: True if str(x).replace(' ', '').isdigit() \\\n",
    "                and int(x) > 0 and int(x) <= 16 else False\n",
    "\n",
    "# Use lambda to parse out seed/team\n",
    "df['Seed'] = df['Team'].apply(lambda x: x[-2:].replace(' ', '') \\\n",
    "                              if valid_seed(x[-2:]) else np.nan )\n",
    "\n",
    "df['Team'] = df['Team'].apply(lambda x: x[:-2] if valid_seed(x[-2:]) else x)"
   ]
  },
  {
   "cell_type": "code",
   "execution_count": 12,
   "metadata": {},
   "outputs": [],
   "source": [
    "# Split W-L column into wins and losses\n",
    "df['Wins'] = df['W-L'].apply(lambda x: int(re.sub('-.*', '', x)) )\n",
    "df['Losses'] = df['W-L'].apply(lambda x: int(re.sub('.*-', '', x)) )\n",
    "df.drop('W-L', inplace=True, axis=1)"
   ]
  },
  {
   "cell_type": "code",
   "execution_count": 13,
   "metadata": {},
   "outputs": [],
   "source": [
    "# Reorder columns\n",
    "df=df[[ 'Year', 'Rank', 'Team', 'Conference', 'Wins', 'Losses', 'Seed','Pyth', \n",
    "             'AdjustO', 'AdjustO Rank', 'AdjustD', 'AdjustD Rank',\n",
    "             'AdjustT', 'AdjustT Rank', 'Luck', 'Luck Rank', \n",
    "             'SOS Pyth', 'SOS Pyth Rank', 'SOS OppO', 'SOS OppO Rank',\n",
    "             'SOS OppD', 'SOS OppD Rank', 'NCSOS Pyth', 'NCSOS Pyth Rank']]"
   ]
  },
  {
   "cell_type": "code",
   "execution_count": 20,
   "metadata": {},
   "outputs": [
    {
     "data": {
      "text/html": [
       "<div>\n",
       "<style scoped>\n",
       "    .dataframe tbody tr th:only-of-type {\n",
       "        vertical-align: middle;\n",
       "    }\n",
       "\n",
       "    .dataframe tbody tr th {\n",
       "        vertical-align: top;\n",
       "    }\n",
       "\n",
       "    .dataframe thead th {\n",
       "        text-align: right;\n",
       "    }\n",
       "</style>\n",
       "<table border=\"1\" class=\"dataframe\">\n",
       "  <thead>\n",
       "    <tr style=\"text-align: right;\">\n",
       "      <th></th>\n",
       "      <th>Year</th>\n",
       "      <th>Rank</th>\n",
       "      <th>Team</th>\n",
       "      <th>Conference</th>\n",
       "      <th>Wins</th>\n",
       "      <th>Losses</th>\n",
       "      <th>Seed</th>\n",
       "      <th>Pyth</th>\n",
       "      <th>AdjustO</th>\n",
       "      <th>AdjustO Rank</th>\n",
       "      <th>AdjustD</th>\n",
       "      <th>AdjustD Rank</th>\n",
       "      <th>AdjustT</th>\n",
       "      <th>AdjustT Rank</th>\n",
       "      <th>Luck</th>\n",
       "      <th>Luck Rank</th>\n",
       "      <th>SOS Pyth</th>\n",
       "      <th>SOS Pyth Rank</th>\n",
       "      <th>SOS OppO</th>\n",
       "      <th>SOS OppO Rank</th>\n",
       "      <th>SOS OppD</th>\n",
       "      <th>SOS OppD Rank</th>\n",
       "      <th>NCSOS Pyth</th>\n",
       "      <th>NCSOS Pyth Rank</th>\n",
       "    </tr>\n",
       "  </thead>\n",
       "  <tbody>\n",
       "    <tr>\n",
       "      <th>0</th>\n",
       "      <td>2002</td>\n",
       "      <td>1</td>\n",
       "      <td>Duke</td>\n",
       "      <td>ACC</td>\n",
       "      <td>31</td>\n",
       "      <td>4</td>\n",
       "      <td>1</td>\n",
       "      <td>34.19</td>\n",
       "      <td>121.0</td>\n",
       "      <td>1</td>\n",
       "      <td>86.8</td>\n",
       "      <td>1</td>\n",
       "      <td>74.5</td>\n",
       "      <td>8</td>\n",
       "      <td>-0.027</td>\n",
       "      <td>223</td>\n",
       "      <td>9.87</td>\n",
       "      <td>18</td>\n",
       "      <td>109.1</td>\n",
       "      <td>13</td>\n",
       "      <td>99.2</td>\n",
       "      <td>31</td>\n",
       "      <td>6.66</td>\n",
       "      <td>34</td>\n",
       "    </tr>\n",
       "    <tr>\n",
       "      <th>1</th>\n",
       "      <td>2002</td>\n",
       "      <td>2</td>\n",
       "      <td>Cincinnati</td>\n",
       "      <td>CUSA</td>\n",
       "      <td>31</td>\n",
       "      <td>4</td>\n",
       "      <td>1</td>\n",
       "      <td>30.19</td>\n",
       "      <td>118.1</td>\n",
       "      <td>7</td>\n",
       "      <td>87.9</td>\n",
       "      <td>3</td>\n",
       "      <td>67.4</td>\n",
       "      <td>194</td>\n",
       "      <td>0.002</td>\n",
       "      <td>165</td>\n",
       "      <td>6.58</td>\n",
       "      <td>57</td>\n",
       "      <td>106.3</td>\n",
       "      <td>66</td>\n",
       "      <td>99.7</td>\n",
       "      <td>42</td>\n",
       "      <td>3.48</td>\n",
       "      <td>80</td>\n",
       "    </tr>\n",
       "    <tr>\n",
       "      <th>2</th>\n",
       "      <td>2002</td>\n",
       "      <td>3</td>\n",
       "      <td>Maryland</td>\n",
       "      <td>ACC</td>\n",
       "      <td>32</td>\n",
       "      <td>4</td>\n",
       "      <td>1</td>\n",
       "      <td>29.25</td>\n",
       "      <td>119.2</td>\n",
       "      <td>4</td>\n",
       "      <td>89.9</td>\n",
       "      <td>7</td>\n",
       "      <td>73.7</td>\n",
       "      <td>15</td>\n",
       "      <td>0.025</td>\n",
       "      <td>104</td>\n",
       "      <td>9.88</td>\n",
       "      <td>16</td>\n",
       "      <td>109.1</td>\n",
       "      <td>11</td>\n",
       "      <td>99.3</td>\n",
       "      <td>33</td>\n",
       "      <td>1.62</td>\n",
       "      <td>120</td>\n",
       "    </tr>\n",
       "    <tr>\n",
       "      <th>3</th>\n",
       "      <td>2002</td>\n",
       "      <td>4</td>\n",
       "      <td>Kansas</td>\n",
       "      <td>B12</td>\n",
       "      <td>33</td>\n",
       "      <td>4</td>\n",
       "      <td>1</td>\n",
       "      <td>28.99</td>\n",
       "      <td>118.7</td>\n",
       "      <td>5</td>\n",
       "      <td>89.7</td>\n",
       "      <td>6</td>\n",
       "      <td>77.3</td>\n",
       "      <td>3</td>\n",
       "      <td>0.022</td>\n",
       "      <td>109</td>\n",
       "      <td>10.66</td>\n",
       "      <td>10</td>\n",
       "      <td>110.3</td>\n",
       "      <td>4</td>\n",
       "      <td>99.6</td>\n",
       "      <td>40</td>\n",
       "      <td>8.32</td>\n",
       "      <td>23</td>\n",
       "    </tr>\n",
       "    <tr>\n",
       "      <th>4</th>\n",
       "      <td>2002</td>\n",
       "      <td>5</td>\n",
       "      <td>Oklahoma</td>\n",
       "      <td>B12</td>\n",
       "      <td>31</td>\n",
       "      <td>5</td>\n",
       "      <td>2</td>\n",
       "      <td>26.04</td>\n",
       "      <td>114.9</td>\n",
       "      <td>20</td>\n",
       "      <td>88.9</td>\n",
       "      <td>4</td>\n",
       "      <td>66.5</td>\n",
       "      <td>228</td>\n",
       "      <td>0.043</td>\n",
       "      <td>69</td>\n",
       "      <td>8.77</td>\n",
       "      <td>26</td>\n",
       "      <td>109.0</td>\n",
       "      <td>15</td>\n",
       "      <td>100.2</td>\n",
       "      <td>62</td>\n",
       "      <td>-0.45</td>\n",
       "      <td>169</td>\n",
       "    </tr>\n",
       "  </tbody>\n",
       "</table>\n",
       "</div>"
      ],
      "text/plain": [
       "   Year  Rank        Team Conference  Wins  Losses Seed   Pyth  AdjustO  \\\n",
       "0  2002     1        Duke        ACC    31       4    1  34.19    121.0   \n",
       "1  2002     2  Cincinnati       CUSA    31       4    1  30.19    118.1   \n",
       "2  2002     3    Maryland        ACC    32       4    1  29.25    119.2   \n",
       "3  2002     4      Kansas        B12    33       4    1  28.99    118.7   \n",
       "4  2002     5    Oklahoma        B12    31       5    2  26.04    114.9   \n",
       "\n",
       "   AdjustO Rank  AdjustD  AdjustD Rank  AdjustT  AdjustT Rank   Luck  \\\n",
       "0             1     86.8             1     74.5             8 -0.027   \n",
       "1             7     87.9             3     67.4           194  0.002   \n",
       "2             4     89.9             7     73.7            15  0.025   \n",
       "3             5     89.7             6     77.3             3  0.022   \n",
       "4            20     88.9             4     66.5           228  0.043   \n",
       "\n",
       "   Luck Rank  SOS Pyth  SOS Pyth Rank  SOS OppO  SOS OppO Rank  SOS OppD  \\\n",
       "0        223      9.87             18     109.1             13      99.2   \n",
       "1        165      6.58             57     106.3             66      99.7   \n",
       "2        104      9.88             16     109.1             11      99.3   \n",
       "3        109     10.66             10     110.3              4      99.6   \n",
       "4         69      8.77             26     109.0             15     100.2   \n",
       "\n",
       "   SOS OppD Rank  NCSOS Pyth  NCSOS Pyth Rank  \n",
       "0             31        6.66               34  \n",
       "1             42        3.48               80  \n",
       "2             33        1.62              120  \n",
       "3             40        8.32               23  \n",
       "4             62       -0.45              169  "
      ]
     },
     "execution_count": 20,
     "metadata": {},
     "output_type": "execute_result"
    }
   ],
   "source": [
    "pd.set_option('display.max_columns', None)\n",
    "df.head()"
   ]
  },
  {
   "attachments": {},
   "cell_type": "markdown",
   "metadata": {},
   "source": [
    "## This KenPom data includes post-season data. Obviously, I do the model will not have post-season stats to use when predicting an outcome. I want to see if I can create a similar dataset with barttorvik.com (I can filter to only the regular season). "
   ]
  },
  {
   "attachments": {},
   "cell_type": "markdown",
   "metadata": {},
   "source": [
    "## Resources and References\n",
    "*What resources and references have you used for this project?*\n",
    "📝 <!-- Answer Below -->\n",
    "\n",
    "https://www.ncaa.com/news/basketball-men/bracketiq/2022-03-10/perfect-ncaa-bracket-absurd-odds-march-madness-dream\n",
    "\n",
    "https://kenpom.com/\n",
    "\n",
    "https://www.basketball-reference.com/\n",
    "\n",
    "https://barttorvik.com/#\n",
    "\n",
    "https://github.com/dylorr/kenpom-scraper"
   ]
  },
  {
   "cell_type": "code",
   "execution_count": 21,
   "metadata": {},
   "outputs": [
    {
     "name": "stderr",
     "output_type": "stream",
     "text": [
      "[NbConvertApp] Converting notebook MarchMadness.ipynb to python\n",
      "[NbConvertApp] Writing 6048 bytes to MarchMadness.py\n"
     ]
    }
   ],
   "source": [
    "# ⚠️ Make sure you run this cell at the end of your notebook before every submission!\n",
    "!jupyter nbconvert --to python MarchMadness.ipynb"
   ]
  }
 ],
 "metadata": {
  "kernelspec": {
   "display_name": "Final-Project-Template-unx06iZ2",
   "language": "python",
   "name": "python3"
  },
  "language_info": {
   "codemirror_mode": {
    "name": "ipython",
    "version": 3
   },
   "file_extension": ".py",
   "mimetype": "text/x-python",
   "name": "python",
   "nbconvert_exporter": "python",
   "pygments_lexer": "ipython3",
   "version": "3.11.1"
  },
  "orig_nbformat": 4,
  "vscode": {
   "interpreter": {
    "hash": "8f59090b806211711d8ea6da25ee5b1ccb272a75a21b9536283520350d8dfda7"
   }
  }
 },
 "nbformat": 4,
 "nbformat_minor": 2
}
